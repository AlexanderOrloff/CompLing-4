{
 "cells": [
  {
   "cell_type": "code",
   "execution_count": 28,
   "metadata": {},
   "outputs": [],
   "source": [
    "import csv\n",
    "import pymorphy2\n",
    "import string\n",
    "import re\n",
    "from math import log\n",
    "import numpy as np\n",
    "from sklearn.feature_extraction.text import CountVectorizer\n",
    "\n",
    "morph = pymorphy2.MorphAnalyzer()\n",
    "vectorizer = CountVectorizer()"
   ]
  },
  {
   "cell_type": "code",
   "execution_count": 29,
   "metadata": {},
   "outputs": [],
   "source": [
    "def get_texts():\n",
    "    corpus = []\n",
    "    inquiery = []\n",
    "    lenghths = []\n",
    "    with open('quora_question_pairs_rus.csv', encoding = 'utf-8') as csvfile:\n",
    "        readCSV = csv.reader(csvfile, delimiter=',')\n",
    "        for row in readCSV:\n",
    "            text = preproc(row[2])\n",
    "            corpus.append(text)\n",
    "            inquiery.append(preproc(row[1]))\n",
    "            lenghths.append(len(text.split(' ')))\n",
    "    return [corpus, inquiery, lenghths]\n",
    "\n",
    "def preproc(data):                      # препроцессинг (убираем знаки препинания и числа, приводим всё к начальной форме)\n",
    "            data = data.split()        \n",
    "            text = ''                   # числа есть только в тех информации, в самом скрипте все числа пишутся буквами\n",
    "            for word in data:\n",
    "                word = word.strip('[!,.?\"]')\n",
    "                p = morph.parse(word.strip())[0]\n",
    "                p = p.normal_form\n",
    "                if p != '-':\n",
    "                    if re.search(r'\\d', p) == None:\n",
    "                        text  = text + ' ' + p\n",
    "            return text[1:]    "
   ]
  },
  {
   "cell_type": "code",
   "execution_count": null,
   "metadata": {},
   "outputs": [],
   "source": [
    "real = get_texts()"
   ]
  },
  {
   "cell_type": "code",
   "execution_count": 9,
   "metadata": {},
   "outputs": [],
   "source": [
    "data = real\n",
    "corpus_texts, inquiery_texts, lenghths =  data[0], data[1], data[2]\n",
    "corpus_matrix = vectorizer.fit_transform(corpus_texts)\n",
    "voc = vectorizer.get_feature_names()"
   ]
  },
  {
   "cell_type": "code",
   "execution_count": 26,
   "metadata": {},
   "outputs": [],
   "source": [
    "N = len(corpus_matrix.getnnz(axis = 1)) #check\n",
    "avgdl = np.mean(lenghths) \n",
    "k = 2\n",
    "b = 0.75"
   ]
  },
  {
   "cell_type": "code",
   "execution_count": 27,
   "metadata": {},
   "outputs": [
    {
     "data": {
      "text/plain": [
       "59.137515490156794"
      ]
     },
     "execution_count": 27,
     "metadata": {},
     "output_type": "execute_result"
    }
   ],
   "source": [
    "avgdl"
   ]
  },
  {
   "cell_type": "code",
   "execution_count": null,
   "metadata": {},
   "outputs": [],
   "source": [
    "# количество доков, где есть слово\n",
    "n = []\n",
    "for i in range(len(voc)):\n",
    "    sum = 0\n",
    "    for j in corpus_matrix[:, i]:\n",
    "        if j != 0:\n",
    "            sum += 1\n",
    "    n.append()\n",
    "            "
   ]
  },
  {
   "cell_type": "code",
   "execution_count": null,
   "metadata": {},
   "outputs": [],
   "source": [
    "def bm25(inquiery, doc, N, lenghth, avgdl, n, corpus_matrix, voc): #attention - передаёшь lenght или lenghts\n",
    "    res = 0\n",
    "    for word in inquiery:\n",
    "        index = voc.index(inquiery) #то, что мы получаем по вертикали\n",
    "        tf = corpus_matrix[doc, index]/lenghth\n",
    "        idf = log((N-n[index]+0.5) / (n[index]+0.5))\n",
    "        bm = idf * ((tf*(k+1)) / (tf*))\n",
    "        \n",
    "    #doc = номер документа\n",
    "    #tf = как часто встретилось в доке делить на длину дока"
   ]
  }
 ],
 "metadata": {
  "kernelspec": {
   "display_name": "Python 3",
   "language": "python",
   "name": "python3"
  },
  "language_info": {
   "codemirror_mode": {
    "name": "ipython",
    "version": 3
   },
   "file_extension": ".py",
   "mimetype": "text/x-python",
   "name": "python",
   "nbconvert_exporter": "python",
   "pygments_lexer": "ipython3",
   "version": "3.7.3"
  }
 },
 "nbformat": 4,
 "nbformat_minor": 2
}
